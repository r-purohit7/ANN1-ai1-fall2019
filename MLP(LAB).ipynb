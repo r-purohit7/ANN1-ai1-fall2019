{
  "nbformat": 4,
  "nbformat_minor": 0,
  "metadata": {
    "colab": {
      "name": "MLP(LAB).ipynb",
      "provenance": [],
      "collapsed_sections": [],
      "include_colab_link": true
    },
    "kernelspec": {
      "name": "python3",
      "display_name": "Python 3"
    }
  },
  "cells": [
    {
      "cell_type": "markdown",
      "metadata": {
        "id": "view-in-github",
        "colab_type": "text"
      },
      "source": [
        "<a href=\"https://colab.research.google.com/github/r-purohit7/ANN1-ai1-fall2019/blob/master/MLP(LAB).ipynb\" target=\"_parent\"><img src=\"https://colab.research.google.com/assets/colab-badge.svg\" alt=\"Open In Colab\"/></a>"
      ]
    },
    {
      "cell_type": "code",
      "metadata": {
        "id": "zGZh7T8KQajA",
        "colab_type": "code",
        "outputId": "f85002e8-6c05-4860-e1bb-f82992e7fc1a",
        "colab": {
          "base_uri": "https://localhost:8080/",
          "height": 490
        }
      },
      "source": [
        "!pip install wandb"
      ],
      "execution_count": 0,
      "outputs": [
        {
          "output_type": "stream",
          "text": [
            "Requirement already satisfied: wandb in /usr/local/lib/python3.6/dist-packages (0.8.18)\n",
            "Requirement already satisfied: psutil>=5.0.0 in /usr/local/lib/python3.6/dist-packages (from wandb) (5.4.8)\n",
            "Requirement already satisfied: requests>=2.0.0 in /usr/local/lib/python3.6/dist-packages (from wandb) (2.21.0)\n",
            "Requirement already satisfied: subprocess32>=3.5.3 in /usr/local/lib/python3.6/dist-packages (from wandb) (3.5.4)\n",
            "Requirement already satisfied: GitPython>=1.0.0 in /usr/local/lib/python3.6/dist-packages (from wandb) (3.0.5)\n",
            "Requirement already satisfied: python-dateutil>=2.6.1 in /usr/local/lib/python3.6/dist-packages (from wandb) (2.6.1)\n",
            "Requirement already satisfied: Click>=7.0 in /usr/local/lib/python3.6/dist-packages (from wandb) (7.0)\n",
            "Requirement already satisfied: nvidia-ml-py3>=7.352.0 in /usr/local/lib/python3.6/dist-packages (from wandb) (7.352.0)\n",
            "Requirement already satisfied: six>=1.10.0 in /usr/local/lib/python3.6/dist-packages (from wandb) (1.12.0)\n",
            "Requirement already satisfied: watchdog>=0.8.3 in /usr/local/lib/python3.6/dist-packages (from wandb) (0.9.0)\n",
            "Requirement already satisfied: shortuuid>=0.5.0 in /usr/local/lib/python3.6/dist-packages (from wandb) (0.5.0)\n",
            "Requirement already satisfied: sentry-sdk>=0.4.0 in /usr/local/lib/python3.6/dist-packages (from wandb) (0.13.5)\n",
            "Requirement already satisfied: docker-pycreds>=0.4.0 in /usr/local/lib/python3.6/dist-packages (from wandb) (0.4.0)\n",
            "Requirement already satisfied: graphql-core<3.0.0 in /usr/local/lib/python3.6/dist-packages (from wandb) (2.2.1)\n",
            "Requirement already satisfied: configparser>=3.8.1 in /usr/local/lib/python3.6/dist-packages (from wandb) (4.0.2)\n",
            "Requirement already satisfied: gql>=0.1.0 in /usr/local/lib/python3.6/dist-packages (from wandb) (0.1.0)\n",
            "Requirement already satisfied: urllib3<1.25,>=1.21.1 in /usr/local/lib/python3.6/dist-packages (from requests>=2.0.0->wandb) (1.24.3)\n",
            "Requirement already satisfied: certifi>=2017.4.17 in /usr/local/lib/python3.6/dist-packages (from requests>=2.0.0->wandb) (2019.11.28)\n",
            "Requirement already satisfied: idna<2.9,>=2.5 in /usr/local/lib/python3.6/dist-packages (from requests>=2.0.0->wandb) (2.8)\n",
            "Requirement already satisfied: chardet<3.1.0,>=3.0.2 in /usr/local/lib/python3.6/dist-packages (from requests>=2.0.0->wandb) (3.0.4)\n",
            "Requirement already satisfied: gitdb2>=2.0.0 in /usr/local/lib/python3.6/dist-packages (from GitPython>=1.0.0->wandb) (2.0.6)\n",
            "Requirement already satisfied: argh>=0.24.1 in /usr/local/lib/python3.6/dist-packages (from watchdog>=0.8.3->wandb) (0.26.2)\n",
            "Requirement already satisfied: pathtools>=0.1.1 in /usr/local/lib/python3.6/dist-packages (from watchdog>=0.8.3->wandb) (0.1.2)\n",
            "Requirement already satisfied: PyYAML>=3.10 in /usr/local/lib/python3.6/dist-packages (from watchdog>=0.8.3->wandb) (3.13)\n",
            "Requirement already satisfied: promise>=2.1 in /usr/local/lib/python3.6/dist-packages (from graphql-core<3.0.0->wandb) (2.2.1)\n",
            "Requirement already satisfied: rx<3,>=1.6 in /usr/local/lib/python3.6/dist-packages (from graphql-core<3.0.0->wandb) (1.6.1)\n",
            "Requirement already satisfied: smmap2>=2.0.0 in /usr/local/lib/python3.6/dist-packages (from gitdb2>=2.0.0->GitPython>=1.0.0->wandb) (2.0.5)\n"
          ],
          "name": "stdout"
        }
      ]
    },
    {
      "cell_type": "code",
      "metadata": {
        "id": "eU_m2gjKQlFC",
        "colab_type": "code",
        "outputId": "ffee3ced-38d4-4724-9484-018999a25f78",
        "colab": {
          "base_uri": "https://localhost:8080/",
          "height": 188
        }
      },
      "source": [
        "!wandb login"
      ],
      "execution_count": 0,
      "outputs": [
        {
          "output_type": "stream",
          "text": [
            "\u001b[34m\u001b[1mwandb\u001b[0m: (1) Create a W&B account\n",
            "\u001b[34m\u001b[1mwandb\u001b[0m: (2) Use an existing W&B account\n",
            "\u001b[34m\u001b[1mwandb\u001b[0m: (3) Don't visualize my results\n",
            "\u001b[34m\u001b[1mwandb\u001b[0m: Enter your choice: 2\n",
            "\u001b[34m\u001b[1mwandb\u001b[0m: You chose 'Use an existing W&B account'\n",
            "\u001b[34m\u001b[1mwandb\u001b[0m: You can find your API key in your browser here: https://app.wandb.ai/authorize\n",
            "\u001b[34m\u001b[1mwandb\u001b[0m: Paste an API key from your profile and hit enter: d849db8cf300eee713b1db695bbfb1a95747e35e\n",
            "\u001b[34m\u001b[1mwandb\u001b[0m: Appending key for api.wandb.ai to your netrc file: /root/.netrc\n",
            "\u001b[32mSuccessfully logged in to Weights & Biases!\u001b[0m\n"
          ],
          "name": "stdout"
        }
      ]
    },
    {
      "cell_type": "code",
      "metadata": {
        "id": "-a4Ak5VGRGvr",
        "colab_type": "code",
        "outputId": "d081244a-72c9-4b17-e184-de01d5c6179d",
        "colab": {
          "base_uri": "https://localhost:8080/",
          "height": 96
        }
      },
      "source": [
        "from keras.datasets import mnist\n",
        "from keras.models import Sequential\n",
        "from keras.layers import Dense, Flatten\n",
        "from keras.utils import to_categorical"
      ],
      "execution_count": 0,
      "outputs": [
        {
          "output_type": "stream",
          "text": [
            "Using TensorFlow backend.\n"
          ],
          "name": "stderr"
        },
        {
          "output_type": "display_data",
          "data": {
            "text/html": [
              "<p style=\"color: red;\">\n",
              "The default version of TensorFlow in Colab will soon switch to TensorFlow 2.x.<br>\n",
              "We recommend you <a href=\"https://www.tensorflow.org/guide/migrate\" target=\"_blank\">upgrade</a> now \n",
              "or ensure your notebook will continue to use TensorFlow 1.x via the <code>%tensorflow_version 1.x</code> magic:\n",
              "<a href=\"https://colab.research.google.com/notebooks/tensorflow_version.ipynb\" target=\"_blank\">more info</a>.</p>\n"
            ],
            "text/plain": [
              "<IPython.core.display.HTML object>"
            ]
          },
          "metadata": {
            "tags": []
          }
        }
      ]
    },
    {
      "cell_type": "code",
      "metadata": {
        "id": "dunw5j79ReEU",
        "colab_type": "code",
        "colab": {}
      },
      "source": [
        "import wandb\n",
        "from wandb.keras import WandbCallback"
      ],
      "execution_count": 0,
      "outputs": []
    },
    {
      "cell_type": "code",
      "metadata": {
        "id": "q5rD009fTN16",
        "colab_type": "code",
        "outputId": "015525d6-b8e9-4e21-b311-8e177cd0828f",
        "colab": {
          "base_uri": "https://localhost:8080/",
          "height": 67
        }
      },
      "source": [
        "run = wandb.init(entity = \"univai-fall\",project = \"harbinger\")\n",
        "config = run.config"
      ],
      "execution_count": 18,
      "outputs": [
        {
          "output_type": "display_data",
          "data": {
            "text/html": [
              "\n",
              "                Logging results to <a href=\"https://wandb.com\" target=\"_blank\">Weights & Biases</a> <a href=\"https://docs.wandb.com/integrations/jupyter.html\" target=\"_blank\">(Documentation)</a>.<br/>\n",
              "                Project page: <a href=\"https://app.wandb.ai/univai-fall/harbinger\" target=\"_blank\">https://app.wandb.ai/univai-fall/harbinger</a><br/>\n",
              "                Run page: <a href=\"https://app.wandb.ai/univai-fall/harbinger/runs/q7wkc60a\" target=\"_blank\">https://app.wandb.ai/univai-fall/harbinger/runs/q7wkc60a</a><br/>\n",
              "            "
            ],
            "text/plain": [
              "<IPython.core.display.HTML object>"
            ]
          },
          "metadata": {
            "tags": []
          }
        }
      ]
    },
    {
      "cell_type": "code",
      "metadata": {
        "id": "9SJRRjo4TndM",
        "colab_type": "code",
        "colab": {}
      },
      "source": [
        "(X_train , y_train), (X_test,y_test) = mnist.load_data()\n",
        "img_width = X_train.shape[1]\n",
        "img_height = X_train.shape[2]"
      ],
      "execution_count": 0,
      "outputs": []
    },
    {
      "cell_type": "code",
      "metadata": {
        "id": "m_OLC2KIYbz1",
        "colab_type": "code",
        "outputId": "30be5269-6f1d-4e96-da6c-a82ea68c86e3",
        "colab": {
          "base_uri": "https://localhost:8080/",
          "height": 34
        }
      },
      "source": [
        "print (X_train.shape)"
      ],
      "execution_count": 0,
      "outputs": [
        {
          "output_type": "stream",
          "text": [
            "(60000, 28, 28)\n"
          ],
          "name": "stdout"
        }
      ]
    },
    {
      "cell_type": "code",
      "metadata": {
        "id": "kWQ8KjvOU10z",
        "colab_type": "code",
        "outputId": "94b6be59-1e5a-423d-be20-43beaefad1db",
        "colab": {
          "base_uri": "https://localhost:8080/",
          "height": 34
        }
      },
      "source": [
        "print (y_train.shape)"
      ],
      "execution_count": 0,
      "outputs": [
        {
          "output_type": "stream",
          "text": [
            "(60000,)\n"
          ],
          "name": "stdout"
        }
      ]
    },
    {
      "cell_type": "code",
      "metadata": {
        "id": "71KAE79kYDPE",
        "colab_type": "code",
        "colab": {}
      },
      "source": [
        "X_train = X_train.astype(\"float32\")/255\n",
        "X_test = X_test.astype(\"float32\")/255"
      ],
      "execution_count": 0,
      "outputs": []
    },
    {
      "cell_type": "code",
      "metadata": {
        "id": "GFXGYdRhVH28",
        "colab_type": "code",
        "colab": {}
      },
      "source": [
        "#one hot encoding\n",
        "y_train = to_categorical(y_train)\n",
        "y_test = to_categorical(y_test)\n",
        "labels = range(10)"
      ],
      "execution_count": 0,
      "outputs": []
    },
    {
      "cell_type": "code",
      "metadata": {
        "id": "EBUa5hDolCdu",
        "colab_type": "code",
        "colab": {}
      },
      "source": [
        ""
      ],
      "execution_count": 0,
      "outputs": []
    },
    {
      "cell_type": "code",
      "metadata": {
        "id": "IVBS_exQazW7",
        "colab_type": "code",
        "outputId": "d9d8ef12-5f0c-4b44-ca31-45ec86ada226",
        "colab": {
          "base_uri": "https://localhost:8080/",
          "height": 34
        }
      },
      "source": [
        "y_train.shape"
      ],
      "execution_count": 0,
      "outputs": [
        {
          "output_type": "execute_result",
          "data": {
            "text/plain": [
              "(60000, 10)"
            ]
          },
          "metadata": {
            "tags": []
          },
          "execution_count": 11
        }
      ]
    },
    {
      "cell_type": "code",
      "metadata": {
        "id": "a_UAbFYoXbv4",
        "colab_type": "code",
        "colab": {}
      },
      "source": [
        "num_classes = y_train.shape[1]"
      ],
      "execution_count": 0,
      "outputs": []
    },
    {
      "cell_type": "code",
      "metadata": {
        "id": "HVT-AvHybLZO",
        "colab_type": "code",
        "outputId": "24c1ae5f-b996-4e32-c0ea-56b802b5f592",
        "colab": {
          "base_uri": "https://localhost:8080/",
          "height": 34
        }
      },
      "source": [
        "num_classes"
      ],
      "execution_count": 19,
      "outputs": [
        {
          "output_type": "execute_result",
          "data": {
            "text/plain": [
              "10"
            ]
          },
          "metadata": {
            "tags": []
          },
          "execution_count": 19
        }
      ]
    },
    {
      "cell_type": "code",
      "metadata": {
        "id": "GX3xzNnjXkaV",
        "colab_type": "code",
        "outputId": "2c4904d0-6d5e-4f25-b58e-eeb158a487d2",
        "colab": {
          "base_uri": "https://localhost:8080/",
          "height": 406
        }
      },
      "source": [
        "model = Sequential()\n",
        "model.add(Flatten(input_shape=(img_width, img_height)))\n",
        "model.add(Dense(num_classes, activation='softmax'))\n",
        "model.compile(loss='categorical_crossentropy', optimizer='adam',\n",
        "              metrics=['accuracy'])\n",
        "model.summary()"
      ],
      "execution_count": 0,
      "outputs": [
        {
          "output_type": "stream",
          "text": [
            "WARNING:tensorflow:From /usr/local/lib/python3.6/dist-packages/keras/backend/tensorflow_backend.py:66: The name tf.get_default_graph is deprecated. Please use tf.compat.v1.get_default_graph instead.\n",
            "\n",
            "WARNING:tensorflow:From /usr/local/lib/python3.6/dist-packages/keras/backend/tensorflow_backend.py:541: The name tf.placeholder is deprecated. Please use tf.compat.v1.placeholder instead.\n",
            "\n",
            "WARNING:tensorflow:From /usr/local/lib/python3.6/dist-packages/keras/backend/tensorflow_backend.py:4432: The name tf.random_uniform is deprecated. Please use tf.random.uniform instead.\n",
            "\n",
            "WARNING:tensorflow:From /usr/local/lib/python3.6/dist-packages/keras/optimizers.py:793: The name tf.train.Optimizer is deprecated. Please use tf.compat.v1.train.Optimizer instead.\n",
            "\n",
            "WARNING:tensorflow:From /usr/local/lib/python3.6/dist-packages/keras/backend/tensorflow_backend.py:3576: The name tf.log is deprecated. Please use tf.math.log instead.\n",
            "\n",
            "Model: \"sequential_1\"\n",
            "_________________________________________________________________\n",
            "Layer (type)                 Output Shape              Param #   \n",
            "=================================================================\n",
            "flatten_1 (Flatten)          (None, 784)               0         \n",
            "_________________________________________________________________\n",
            "dense_1 (Dense)              (None, 10)                7850      \n",
            "=================================================================\n",
            "Total params: 7,850\n",
            "Trainable params: 7,850\n",
            "Non-trainable params: 0\n",
            "_________________________________________________________________\n"
          ],
          "name": "stdout"
        }
      ]
    },
    {
      "cell_type": "code",
      "metadata": {
        "id": "0XHNe92RX28t",
        "colab_type": "code",
        "outputId": "a51f6486-030f-4bcf-ef9e-a9e4f20e1155",
        "colab": {
          "base_uri": "https://localhost:8080/",
          "height": 1000
        }
      },
      "source": [
        "model.fit(X_train, y_train, epochs=100, validation_data=(X_test, y_test),\n",
        "          callbacks=[WandbCallback(data_type=\"image\", labels=labels, save_model=False)])"
      ],
      "execution_count": 0,
      "outputs": [
        {
          "output_type": "stream",
          "text": [
            "Train on 60000 samples, validate on 10000 samples\n",
            "Epoch 1/100\n",
            " 3296/60000 [>.............................] - ETA: 11s - loss: 0.2585 - acc: 0.9296"
          ],
          "name": "stdout"
        },
        {
          "output_type": "stream",
          "text": [
            "/usr/local/lib/python3.6/dist-packages/keras/callbacks.py:95: RuntimeWarning: Method (on_train_batch_end) is slow compared to the batch update (0.485199). Check your callbacks.\n",
            "  % (hook_name, delta_t_median), RuntimeWarning)\n",
            "/usr/local/lib/python3.6/dist-packages/keras/callbacks.py:95: RuntimeWarning: Method (on_train_batch_end) is slow compared to the batch update (0.244959). Check your callbacks.\n",
            "  % (hook_name, delta_t_median), RuntimeWarning)\n"
          ],
          "name": "stderr"
        },
        {
          "output_type": "stream",
          "text": [
            "60000/60000 [==============================] - 4s 63us/step - loss: 0.2343 - acc: 0.9346 - val_loss: 0.2714 - val_acc: 0.9294\n",
            "Epoch 2/100\n",
            "60000/60000 [==============================] - 3s 52us/step - loss: 0.2340 - acc: 0.9355 - val_loss: 0.2744 - val_acc: 0.9269\n",
            "Epoch 3/100\n",
            "60000/60000 [==============================] - 3s 49us/step - loss: 0.2334 - acc: 0.9356 - val_loss: 0.2760 - val_acc: 0.9259\n",
            "Epoch 4/100\n",
            "60000/60000 [==============================] - 3s 49us/step - loss: 0.2329 - acc: 0.9354 - val_loss: 0.2761 - val_acc: 0.9259\n",
            "Epoch 5/100\n",
            "60000/60000 [==============================] - 3s 49us/step - loss: 0.2326 - acc: 0.9358 - val_loss: 0.2759 - val_acc: 0.9286\n",
            "Epoch 6/100\n",
            "60000/60000 [==============================] - 3s 49us/step - loss: 0.2320 - acc: 0.9359 - val_loss: 0.2733 - val_acc: 0.9275\n",
            "Epoch 7/100\n",
            "60000/60000 [==============================] - 3s 49us/step - loss: 0.2316 - acc: 0.9360 - val_loss: 0.2743 - val_acc: 0.9261\n",
            "Epoch 8/100\n",
            "60000/60000 [==============================] - 3s 50us/step - loss: 0.2319 - acc: 0.9361 - val_loss: 0.2734 - val_acc: 0.9298\n",
            "Epoch 9/100\n",
            "60000/60000 [==============================] - 3s 53us/step - loss: 0.2314 - acc: 0.9363 - val_loss: 0.2770 - val_acc: 0.9269\n",
            "Epoch 10/100\n",
            "60000/60000 [==============================] - 3s 53us/step - loss: 0.2310 - acc: 0.9355 - val_loss: 0.2758 - val_acc: 0.9280\n",
            "Epoch 11/100\n",
            "60000/60000 [==============================] - 3s 53us/step - loss: 0.2304 - acc: 0.9360 - val_loss: 0.2769 - val_acc: 0.9276\n",
            "Epoch 12/100\n",
            "60000/60000 [==============================] - 3s 50us/step - loss: 0.2305 - acc: 0.9367 - val_loss: 0.2780 - val_acc: 0.9281\n",
            "Epoch 13/100\n",
            "60000/60000 [==============================] - 3s 50us/step - loss: 0.2300 - acc: 0.9365 - val_loss: 0.2766 - val_acc: 0.9271\n",
            "Epoch 14/100\n",
            "60000/60000 [==============================] - 3s 49us/step - loss: 0.2298 - acc: 0.9362 - val_loss: 0.2773 - val_acc: 0.9285\n",
            "Epoch 15/100\n",
            "60000/60000 [==============================] - 3s 49us/step - loss: 0.2290 - acc: 0.9366 - val_loss: 0.2781 - val_acc: 0.9264\n",
            "Epoch 16/100\n",
            "60000/60000 [==============================] - 3s 50us/step - loss: 0.2292 - acc: 0.9365 - val_loss: 0.2812 - val_acc: 0.9273\n",
            "Epoch 17/100\n",
            "60000/60000 [==============================] - 3s 50us/step - loss: 0.2289 - acc: 0.9364 - val_loss: 0.2801 - val_acc: 0.9285\n",
            "Epoch 18/100\n",
            "60000/60000 [==============================] - 3s 50us/step - loss: 0.2285 - acc: 0.9366 - val_loss: 0.2842 - val_acc: 0.9270\n",
            "Epoch 19/100\n",
            "60000/60000 [==============================] - 3s 50us/step - loss: 0.2281 - acc: 0.9367 - val_loss: 0.2795 - val_acc: 0.9266\n",
            "Epoch 20/100\n",
            "60000/60000 [==============================] - 3s 50us/step - loss: 0.2277 - acc: 0.9374 - val_loss: 0.2844 - val_acc: 0.9254\n",
            "Epoch 21/100\n",
            "60000/60000 [==============================] - 3s 49us/step - loss: 0.2277 - acc: 0.9362 - val_loss: 0.2817 - val_acc: 0.9282\n",
            "Epoch 22/100\n",
            "60000/60000 [==============================] - 3s 49us/step - loss: 0.2275 - acc: 0.9364 - val_loss: 0.2798 - val_acc: 0.9272\n",
            "Epoch 23/100\n",
            "60000/60000 [==============================] - 3s 50us/step - loss: 0.2274 - acc: 0.9368 - val_loss: 0.2820 - val_acc: 0.9275\n",
            "Epoch 24/100\n",
            "60000/60000 [==============================] - 3s 50us/step - loss: 0.2273 - acc: 0.9371 - val_loss: 0.2820 - val_acc: 0.9254\n",
            "Epoch 25/100\n",
            "60000/60000 [==============================] - 3s 50us/step - loss: 0.2268 - acc: 0.9377 - val_loss: 0.2833 - val_acc: 0.9277\n",
            "Epoch 26/100\n",
            "60000/60000 [==============================] - 3s 50us/step - loss: 0.2268 - acc: 0.9374 - val_loss: 0.2847 - val_acc: 0.9253\n",
            "Epoch 27/100\n",
            "60000/60000 [==============================] - 3s 50us/step - loss: 0.2267 - acc: 0.9367 - val_loss: 0.2838 - val_acc: 0.9270\n",
            "Epoch 28/100\n",
            "60000/60000 [==============================] - 3s 49us/step - loss: 0.2264 - acc: 0.9368 - val_loss: 0.2844 - val_acc: 0.9272\n",
            "Epoch 29/100\n",
            "60000/60000 [==============================] - 3s 49us/step - loss: 0.2260 - acc: 0.9376 - val_loss: 0.2878 - val_acc: 0.9252\n",
            "Epoch 30/100\n",
            "60000/60000 [==============================] - 3s 49us/step - loss: 0.2255 - acc: 0.9370 - val_loss: 0.2876 - val_acc: 0.9256\n",
            "Epoch 31/100\n",
            "60000/60000 [==============================] - 3s 49us/step - loss: 0.2261 - acc: 0.9367 - val_loss: 0.2841 - val_acc: 0.9270\n",
            "Epoch 32/100\n",
            "60000/60000 [==============================] - 3s 49us/step - loss: 0.2254 - acc: 0.9376 - val_loss: 0.2877 - val_acc: 0.9264\n",
            "Epoch 33/100\n",
            "60000/60000 [==============================] - 3s 50us/step - loss: 0.2253 - acc: 0.9373 - val_loss: 0.2852 - val_acc: 0.9274\n",
            "Epoch 34/100\n",
            "60000/60000 [==============================] - 3s 50us/step - loss: 0.2250 - acc: 0.9379 - val_loss: 0.2886 - val_acc: 0.9268\n",
            "Epoch 35/100\n",
            "60000/60000 [==============================] - 3s 49us/step - loss: 0.2256 - acc: 0.9377 - val_loss: 0.2883 - val_acc: 0.9255\n",
            "Epoch 36/100\n",
            "60000/60000 [==============================] - 3s 50us/step - loss: 0.2250 - acc: 0.9374 - val_loss: 0.2853 - val_acc: 0.9275\n",
            "Epoch 37/100\n",
            "60000/60000 [==============================] - 3s 49us/step - loss: 0.2246 - acc: 0.9377 - val_loss: 0.2859 - val_acc: 0.9263\n",
            "Epoch 38/100\n",
            "60000/60000 [==============================] - 3s 49us/step - loss: 0.2250 - acc: 0.9373 - val_loss: 0.2866 - val_acc: 0.9277\n",
            "Epoch 39/100\n",
            "60000/60000 [==============================] - 3s 50us/step - loss: 0.2246 - acc: 0.9378 - val_loss: 0.2869 - val_acc: 0.9271\n",
            "Epoch 40/100\n",
            "60000/60000 [==============================] - 3s 50us/step - loss: 0.2243 - acc: 0.9379 - val_loss: 0.2864 - val_acc: 0.9283\n",
            "Epoch 41/100\n",
            "60000/60000 [==============================] - 3s 49us/step - loss: 0.2237 - acc: 0.9377 - val_loss: 0.2917 - val_acc: 0.9244\n",
            "Epoch 42/100\n",
            "60000/60000 [==============================] - 3s 49us/step - loss: 0.2237 - acc: 0.9373 - val_loss: 0.2918 - val_acc: 0.9257\n",
            "Epoch 43/100\n",
            "60000/60000 [==============================] - 3s 50us/step - loss: 0.2239 - acc: 0.9379 - val_loss: 0.2946 - val_acc: 0.9258\n",
            "Epoch 44/100\n",
            "60000/60000 [==============================] - 3s 49us/step - loss: 0.2238 - acc: 0.9380 - val_loss: 0.2901 - val_acc: 0.9273\n",
            "Epoch 45/100\n",
            "60000/60000 [==============================] - 3s 49us/step - loss: 0.2233 - acc: 0.9384 - val_loss: 0.2885 - val_acc: 0.9273\n",
            "Epoch 46/100\n",
            "60000/60000 [==============================] - 3s 50us/step - loss: 0.2238 - acc: 0.9381 - val_loss: 0.2884 - val_acc: 0.9279\n",
            "Epoch 47/100\n",
            "60000/60000 [==============================] - 3s 50us/step - loss: 0.2232 - acc: 0.9381 - val_loss: 0.2882 - val_acc: 0.9281\n",
            "Epoch 48/100\n",
            "60000/60000 [==============================] - 3s 50us/step - loss: 0.2231 - acc: 0.9383 - val_loss: 0.2912 - val_acc: 0.9263\n",
            "Epoch 49/100\n",
            "60000/60000 [==============================] - 3s 49us/step - loss: 0.2226 - acc: 0.9377 - val_loss: 0.2914 - val_acc: 0.9273\n",
            "Epoch 50/100\n",
            "60000/60000 [==============================] - 3s 49us/step - loss: 0.2232 - acc: 0.9377 - val_loss: 0.2892 - val_acc: 0.9276\n",
            "Epoch 51/100\n",
            "60000/60000 [==============================] - 3s 50us/step - loss: 0.2225 - acc: 0.9386 - val_loss: 0.2933 - val_acc: 0.9252\n",
            "Epoch 52/100\n",
            "60000/60000 [==============================] - 3s 49us/step - loss: 0.2226 - acc: 0.9389 - val_loss: 0.2905 - val_acc: 0.9253\n",
            "Epoch 53/100\n",
            "60000/60000 [==============================] - 3s 50us/step - loss: 0.2225 - acc: 0.9385 - val_loss: 0.2944 - val_acc: 0.9261\n",
            "Epoch 54/100\n",
            "60000/60000 [==============================] - 3s 50us/step - loss: 0.2224 - acc: 0.9379 - val_loss: 0.2929 - val_acc: 0.9239\n",
            "Epoch 55/100\n",
            "60000/60000 [==============================] - 3s 49us/step - loss: 0.2223 - acc: 0.9382 - val_loss: 0.2949 - val_acc: 0.9261\n",
            "Epoch 56/100\n",
            "60000/60000 [==============================] - 3s 50us/step - loss: 0.2220 - acc: 0.9383 - val_loss: 0.2976 - val_acc: 0.9245\n",
            "Epoch 57/100\n",
            "60000/60000 [==============================] - 3s 49us/step - loss: 0.2215 - acc: 0.9382 - val_loss: 0.2929 - val_acc: 0.9260\n",
            "Epoch 58/100\n",
            "60000/60000 [==============================] - 3s 49us/step - loss: 0.2221 - acc: 0.9381 - val_loss: 0.2926 - val_acc: 0.9273\n",
            "Epoch 59/100\n",
            "60000/60000 [==============================] - 3s 50us/step - loss: 0.2211 - acc: 0.9381 - val_loss: 0.2907 - val_acc: 0.9257\n",
            "Epoch 60/100\n",
            "60000/60000 [==============================] - 3s 49us/step - loss: 0.2218 - acc: 0.9388 - val_loss: 0.2931 - val_acc: 0.9267\n",
            "Epoch 61/100\n",
            "60000/60000 [==============================] - 3s 49us/step - loss: 0.2217 - acc: 0.9385 - val_loss: 0.2917 - val_acc: 0.9267\n",
            "Epoch 62/100\n",
            "60000/60000 [==============================] - 3s 50us/step - loss: 0.2213 - acc: 0.9382 - val_loss: 0.2967 - val_acc: 0.9281\n",
            "Epoch 63/100\n",
            "60000/60000 [==============================] - 3s 50us/step - loss: 0.2213 - acc: 0.9385 - val_loss: 0.2934 - val_acc: 0.9267\n",
            "Epoch 64/100\n",
            "60000/60000 [==============================] - 3s 50us/step - loss: 0.2216 - acc: 0.9387 - val_loss: 0.2935 - val_acc: 0.9278\n",
            "Epoch 65/100\n",
            "60000/60000 [==============================] - 3s 51us/step - loss: 0.2211 - acc: 0.9390 - val_loss: 0.2929 - val_acc: 0.9277\n",
            "Epoch 66/100\n",
            "60000/60000 [==============================] - 3s 49us/step - loss: 0.2209 - acc: 0.9388 - val_loss: 0.3000 - val_acc: 0.9241\n",
            "Epoch 67/100\n",
            "60000/60000 [==============================] - 3s 50us/step - loss: 0.2208 - acc: 0.9382 - val_loss: 0.2958 - val_acc: 0.9274\n",
            "Epoch 68/100\n",
            "60000/60000 [==============================] - 3s 50us/step - loss: 0.2207 - acc: 0.9390 - val_loss: 0.2935 - val_acc: 0.9266\n",
            "Epoch 69/100\n",
            "60000/60000 [==============================] - 3s 50us/step - loss: 0.2204 - acc: 0.9387 - val_loss: 0.2939 - val_acc: 0.9253\n",
            "Epoch 70/100\n",
            "60000/60000 [==============================] - 3s 50us/step - loss: 0.2204 - acc: 0.9381 - val_loss: 0.2971 - val_acc: 0.9264\n",
            "Epoch 71/100\n",
            "60000/60000 [==============================] - 3s 50us/step - loss: 0.2205 - acc: 0.9391 - val_loss: 0.2950 - val_acc: 0.9256\n",
            "Epoch 72/100\n",
            "60000/60000 [==============================] - 3s 49us/step - loss: 0.2204 - acc: 0.9382 - val_loss: 0.2962 - val_acc: 0.9264\n",
            "Epoch 73/100\n",
            "60000/60000 [==============================] - 3s 49us/step - loss: 0.2201 - acc: 0.9378 - val_loss: 0.2934 - val_acc: 0.9277\n",
            "Epoch 74/100\n",
            "60000/60000 [==============================] - 3s 49us/step - loss: 0.2201 - acc: 0.9385 - val_loss: 0.2985 - val_acc: 0.9245\n",
            "Epoch 75/100\n",
            "60000/60000 [==============================] - 3s 50us/step - loss: 0.2201 - acc: 0.9390 - val_loss: 0.2959 - val_acc: 0.9255\n",
            "Epoch 76/100\n",
            "60000/60000 [==============================] - 3s 49us/step - loss: 0.2199 - acc: 0.9387 - val_loss: 0.2964 - val_acc: 0.9271\n",
            "Epoch 77/100\n",
            "60000/60000 [==============================] - 3s 50us/step - loss: 0.2199 - acc: 0.9390 - val_loss: 0.3011 - val_acc: 0.9239\n",
            "Epoch 78/100\n",
            "60000/60000 [==============================] - 3s 49us/step - loss: 0.2201 - acc: 0.9384 - val_loss: 0.2986 - val_acc: 0.9251\n",
            "Epoch 79/100\n",
            "60000/60000 [==============================] - 3s 49us/step - loss: 0.2201 - acc: 0.9386 - val_loss: 0.2961 - val_acc: 0.9269\n",
            "Epoch 80/100\n",
            "60000/60000 [==============================] - 3s 49us/step - loss: 0.2201 - acc: 0.9388 - val_loss: 0.2961 - val_acc: 0.9274\n",
            "Epoch 81/100\n",
            "60000/60000 [==============================] - 3s 49us/step - loss: 0.2192 - acc: 0.9384 - val_loss: 0.2974 - val_acc: 0.9254\n",
            "Epoch 82/100\n",
            "60000/60000 [==============================] - 3s 50us/step - loss: 0.2200 - acc: 0.9385 - val_loss: 0.2979 - val_acc: 0.9265\n",
            "Epoch 83/100\n",
            "60000/60000 [==============================] - 3s 49us/step - loss: 0.2196 - acc: 0.9388 - val_loss: 0.2966 - val_acc: 0.9275\n",
            "Epoch 84/100\n",
            "60000/60000 [==============================] - 3s 50us/step - loss: 0.2193 - acc: 0.9385 - val_loss: 0.3017 - val_acc: 0.9258\n",
            "Epoch 85/100\n",
            "60000/60000 [==============================] - 3s 49us/step - loss: 0.2196 - acc: 0.9385 - val_loss: 0.3007 - val_acc: 0.9243\n",
            "Epoch 86/100\n",
            "60000/60000 [==============================] - 3s 50us/step - loss: 0.2197 - acc: 0.9389 - val_loss: 0.2995 - val_acc: 0.9266\n",
            "Epoch 87/100\n",
            "60000/60000 [==============================] - 3s 49us/step - loss: 0.2193 - acc: 0.9391 - val_loss: 0.2996 - val_acc: 0.9252\n",
            "Epoch 88/100\n",
            "60000/60000 [==============================] - 3s 49us/step - loss: 0.2195 - acc: 0.9388 - val_loss: 0.3034 - val_acc: 0.9265\n",
            "Epoch 89/100\n",
            "60000/60000 [==============================] - 3s 50us/step - loss: 0.2187 - acc: 0.9395 - val_loss: 0.3039 - val_acc: 0.9242\n",
            "Epoch 90/100\n",
            "60000/60000 [==============================] - 3s 49us/step - loss: 0.2189 - acc: 0.9386 - val_loss: 0.2972 - val_acc: 0.9258\n",
            "Epoch 91/100\n",
            "60000/60000 [==============================] - 3s 50us/step - loss: 0.2187 - acc: 0.9395 - val_loss: 0.3005 - val_acc: 0.9252\n",
            "Epoch 92/100\n",
            "60000/60000 [==============================] - 3s 48us/step - loss: 0.2189 - acc: 0.9390 - val_loss: 0.3006 - val_acc: 0.9247\n",
            "Epoch 93/100\n",
            "60000/60000 [==============================] - 3s 49us/step - loss: 0.2186 - acc: 0.9388 - val_loss: 0.3067 - val_acc: 0.9217\n",
            "Epoch 94/100\n",
            "60000/60000 [==============================] - 3s 49us/step - loss: 0.2190 - acc: 0.9389 - val_loss: 0.3004 - val_acc: 0.9258\n",
            "Epoch 95/100\n",
            "60000/60000 [==============================] - 3s 49us/step - loss: 0.2183 - acc: 0.9383 - val_loss: 0.2984 - val_acc: 0.9260\n",
            "Epoch 96/100\n",
            "60000/60000 [==============================] - 3s 50us/step - loss: 0.2181 - acc: 0.9391 - val_loss: 0.3012 - val_acc: 0.9260\n",
            "Epoch 97/100\n",
            "60000/60000 [==============================] - 3s 50us/step - loss: 0.2184 - acc: 0.9390 - val_loss: 0.2991 - val_acc: 0.9284\n",
            "Epoch 98/100\n",
            "60000/60000 [==============================] - 3s 49us/step - loss: 0.2189 - acc: 0.9390 - val_loss: 0.3028 - val_acc: 0.9240\n",
            "Epoch 99/100\n",
            "60000/60000 [==============================] - 3s 50us/step - loss: 0.2185 - acc: 0.9400 - val_loss: 0.3029 - val_acc: 0.9241\n",
            "Epoch 100/100\n",
            "60000/60000 [==============================] - 3s 49us/step - loss: 0.2181 - acc: 0.9398 - val_loss: 0.3009 - val_acc: 0.9258\n"
          ],
          "name": "stdout"
        },
        {
          "output_type": "execute_result",
          "data": {
            "text/plain": [
              "<keras.callbacks.History at 0x7f0ca30a79e8>"
            ]
          },
          "metadata": {
            "tags": []
          },
          "execution_count": 17
        }
      ]
    },
    {
      "cell_type": "code",
      "metadata": {
        "id": "MstUkqdmeeUU",
        "colab_type": "code",
        "colab": {}
      },
      "source": [
        ""
      ],
      "execution_count": 0,
      "outputs": []
    }
  ]
}